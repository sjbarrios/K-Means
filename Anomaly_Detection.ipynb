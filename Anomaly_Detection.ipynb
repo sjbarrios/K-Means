{
 "cells": [
  {
   "cell_type": "markdown",
   "metadata": {},
   "source": [
    "Universidad Galileo\n",
    "\n",
    "Statistical Learning II\n",
    "\n",
    "PAPD - Sección V\n",
    "\n",
    "Sergio José Barrios Martínez\n",
    "\n",
    "Carnet No. 19012765\n",
    "\n",
    "## Práctica No. 1\n",
    "\n",
    "### Parte No. 2: Anomaly Detection"
   ]
  },
  {
   "cell_type": "code",
   "execution_count": 1,
   "metadata": {},
   "outputs": [],
   "source": [
    "import numpy as np\n",
    "import pandas as pd\n",
    "import matplotlib.pyplot as plt\n",
    "from sklearn.metrics import f1_score\n",
    "from scipy.stats import multivariate_normal"
   ]
  },
  {
   "cell_type": "markdown",
   "metadata": {},
   "source": [
    "### Entrenamiento con Distribución Normal Multivariada\n",
    "\n",
    "Se leen los datos de entrenamiento desde CSV. Los datos de entrenamiento no contienen anomalías, ya que se quiere entrenar sobre el conjunto de datos normales."
   ]
  },
  {
   "cell_type": "code",
   "execution_count": 2,
   "metadata": {},
   "outputs": [
    {
     "data": {
      "text/html": [
       "<div>\n",
       "<style scoped>\n",
       "    .dataframe tbody tr th:only-of-type {\n",
       "        vertical-align: middle;\n",
       "    }\n",
       "\n",
       "    .dataframe tbody tr th {\n",
       "        vertical-align: top;\n",
       "    }\n",
       "\n",
       "    .dataframe thead th {\n",
       "        text-align: right;\n",
       "    }\n",
       "</style>\n",
       "<table border=\"1\" class=\"dataframe\">\n",
       "  <thead>\n",
       "    <tr style=\"text-align: right;\">\n",
       "      <th></th>\n",
       "      <th>Edad</th>\n",
       "      <th>Estatura</th>\n",
       "    </tr>\n",
       "  </thead>\n",
       "  <tbody>\n",
       "    <tr>\n",
       "      <th>0</th>\n",
       "      <td>26</td>\n",
       "      <td>1.77</td>\n",
       "    </tr>\n",
       "    <tr>\n",
       "      <th>1</th>\n",
       "      <td>31</td>\n",
       "      <td>1.74</td>\n",
       "    </tr>\n",
       "    <tr>\n",
       "      <th>2</th>\n",
       "      <td>24</td>\n",
       "      <td>1.72</td>\n",
       "    </tr>\n",
       "    <tr>\n",
       "      <th>3</th>\n",
       "      <td>34</td>\n",
       "      <td>1.78</td>\n",
       "    </tr>\n",
       "    <tr>\n",
       "      <th>4</th>\n",
       "      <td>32</td>\n",
       "      <td>1.65</td>\n",
       "    </tr>\n",
       "    <tr>\n",
       "      <th>5</th>\n",
       "      <td>29</td>\n",
       "      <td>1.66</td>\n",
       "    </tr>\n",
       "    <tr>\n",
       "      <th>6</th>\n",
       "      <td>27</td>\n",
       "      <td>1.64</td>\n",
       "    </tr>\n",
       "    <tr>\n",
       "      <th>7</th>\n",
       "      <td>34</td>\n",
       "      <td>1.85</td>\n",
       "    </tr>\n",
       "    <tr>\n",
       "      <th>8</th>\n",
       "      <td>26</td>\n",
       "      <td>1.85</td>\n",
       "    </tr>\n",
       "    <tr>\n",
       "      <th>9</th>\n",
       "      <td>21</td>\n",
       "      <td>1.75</td>\n",
       "    </tr>\n",
       "    <tr>\n",
       "      <th>10</th>\n",
       "      <td>23</td>\n",
       "      <td>1.73</td>\n",
       "    </tr>\n",
       "    <tr>\n",
       "      <th>11</th>\n",
       "      <td>25</td>\n",
       "      <td>1.79</td>\n",
       "    </tr>\n",
       "    <tr>\n",
       "      <th>12</th>\n",
       "      <td>24</td>\n",
       "      <td>1.82</td>\n",
       "    </tr>\n",
       "    <tr>\n",
       "      <th>13</th>\n",
       "      <td>25</td>\n",
       "      <td>1.65</td>\n",
       "    </tr>\n",
       "    <tr>\n",
       "      <th>14</th>\n",
       "      <td>25</td>\n",
       "      <td>1.79</td>\n",
       "    </tr>\n",
       "    <tr>\n",
       "      <th>15</th>\n",
       "      <td>34</td>\n",
       "      <td>1.72</td>\n",
       "    </tr>\n",
       "    <tr>\n",
       "      <th>16</th>\n",
       "      <td>26</td>\n",
       "      <td>1.70</td>\n",
       "    </tr>\n",
       "    <tr>\n",
       "      <th>17</th>\n",
       "      <td>25</td>\n",
       "      <td>1.57</td>\n",
       "    </tr>\n",
       "    <tr>\n",
       "      <th>18</th>\n",
       "      <td>26</td>\n",
       "      <td>1.66</td>\n",
       "    </tr>\n",
       "    <tr>\n",
       "      <th>19</th>\n",
       "      <td>27</td>\n",
       "      <td>1.75</td>\n",
       "    </tr>\n",
       "    <tr>\n",
       "      <th>20</th>\n",
       "      <td>32</td>\n",
       "      <td>1.77</td>\n",
       "    </tr>\n",
       "    <tr>\n",
       "      <th>21</th>\n",
       "      <td>40</td>\n",
       "      <td>1.80</td>\n",
       "    </tr>\n",
       "    <tr>\n",
       "      <th>22</th>\n",
       "      <td>25</td>\n",
       "      <td>1.85</td>\n",
       "    </tr>\n",
       "    <tr>\n",
       "      <th>23</th>\n",
       "      <td>24</td>\n",
       "      <td>1.82</td>\n",
       "    </tr>\n",
       "    <tr>\n",
       "      <th>24</th>\n",
       "      <td>38</td>\n",
       "      <td>1.75</td>\n",
       "    </tr>\n",
       "    <tr>\n",
       "      <th>25</th>\n",
       "      <td>34</td>\n",
       "      <td>1.73</td>\n",
       "    </tr>\n",
       "    <tr>\n",
       "      <th>26</th>\n",
       "      <td>29</td>\n",
       "      <td>1.55</td>\n",
       "    </tr>\n",
       "    <tr>\n",
       "      <th>27</th>\n",
       "      <td>28</td>\n",
       "      <td>1.76</td>\n",
       "    </tr>\n",
       "    <tr>\n",
       "      <th>28</th>\n",
       "      <td>27</td>\n",
       "      <td>1.68</td>\n",
       "    </tr>\n",
       "  </tbody>\n",
       "</table>\n",
       "</div>"
      ],
      "text/plain": [
       "    Edad  Estatura\n",
       "0     26      1.77\n",
       "1     31      1.74\n",
       "2     24      1.72\n",
       "3     34      1.78\n",
       "4     32      1.65\n",
       "5     29      1.66\n",
       "6     27      1.64\n",
       "7     34      1.85\n",
       "8     26      1.85\n",
       "9     21      1.75\n",
       "10    23      1.73\n",
       "11    25      1.79\n",
       "12    24      1.82\n",
       "13    25      1.65\n",
       "14    25      1.79\n",
       "15    34      1.72\n",
       "16    26      1.70\n",
       "17    25      1.57\n",
       "18    26      1.66\n",
       "19    27      1.75\n",
       "20    32      1.77\n",
       "21    40      1.80\n",
       "22    25      1.85\n",
       "23    24      1.82\n",
       "24    38      1.75\n",
       "25    34      1.73\n",
       "26    29      1.55\n",
       "27    28      1.76\n",
       "28    27      1.68"
      ]
     },
     "execution_count": 2,
     "metadata": {},
     "output_type": "execute_result"
    }
   ],
   "source": [
    "df_entrenamiento = pd.read_csv('training_anomaly.csv')\n",
    "df_entrenamiento = df_entrenamiento[[\"Edad\",\"Estatura\"]]\n",
    "df_entrenamiento"
   ]
  },
  {
   "cell_type": "markdown",
   "metadata": {},
   "source": [
    "#### Estimación de Parámetros de Distribución Multivariada (Vector de Medias y Matriz de Covarianza)\n",
    "\n",
    "Se utilizará la función de Distribución Multivariada para estimar la PDF del conjunto de entrenamiento.\n",
    "Para ello se definirán dos funciones:\n",
    "- Determinación de Parámetros de PDF Multivariada (media y covarianza).\n",
    "- Determinación de PDF Multivariada (con multivariate_normal).\n"
   ]
  },
  {
   "cell_type": "code",
   "execution_count": 3,
   "metadata": {},
   "outputs": [],
   "source": [
    "def estimacion_normal(datos):\n",
    "    medias = np.mean(datos, axis = 0)\n",
    "    covarianza = np.cov(datos.T)\n",
    "    return medias,covarianza"
   ]
  },
  {
   "cell_type": "code",
   "execution_count": 4,
   "metadata": {},
   "outputs": [],
   "source": [
    "def distribucion_multivariada(datos,medias,covarianza):\n",
    "    probabilidades = multivariate_normal(mean=medias,cov=covarianza)\n",
    "    return probabilidades.pdf(datos)"
   ]
  },
  {
   "cell_type": "markdown",
   "metadata": {},
   "source": [
    "Parámetros de Distribución Multivariada"
   ]
  },
  {
   "cell_type": "code",
   "execution_count": 5,
   "metadata": {},
   "outputs": [
    {
     "name": "stdout",
     "output_type": "stream",
     "text": [
      "Medias:\n",
      "Edad        28.310345\n",
      "Estatura     1.734483\n",
      "dtype: float64\n",
      "Matriz de Covarianza:\n",
      "[[2.19359606e+01 2.71305419e-02]\n",
      " [2.71305419e-02 6.11133005e-03]]\n"
     ]
    }
   ],
   "source": [
    "medias_entrenamiento,covarianza_entrenamiento= estimacion_normal(df_entrenamiento)\n",
    "print(\"Medias:\")\n",
    "print(medias_entrenamiento)\n",
    "print(\"Matriz de Covarianza:\")\n",
    "print(covarianza_entrenamiento)"
   ]
  },
  {
   "cell_type": "markdown",
   "metadata": {},
   "source": [
    "Distribución Multivariada (considerando posibles correlaciones entre Edad y Estatura)"
   ]
  },
  {
   "cell_type": "code",
   "execution_count": 6,
   "metadata": {},
   "outputs": [
    {
     "data": {
      "text/plain": [
       "array([0.34191419, 0.36947513, 0.2834394 , 0.18450539, 0.16646052,\n",
       "       0.2703258 , 0.20619402, 0.07915274, 0.12186773, 0.12268719,\n",
       "       0.22911876, 0.25347203, 0.14473511, 0.19952848, 0.25347203,\n",
       "       0.20061665, 0.35546521, 0.04090768, 0.25306917, 0.40914669,\n",
       "       0.29537546, 0.01561441, 0.10464836, 0.14473511, 0.05122697,\n",
       "       0.20614432, 0.02555203, 0.41157343, 0.33306881])"
      ]
     },
     "execution_count": 6,
     "metadata": {},
     "output_type": "execute_result"
    }
   ],
   "source": [
    "pdf_multivariada = distribucion_multivariada(df_entrenamiento,medias_entrenamiento,covarianza_entrenamiento)\n",
    "pdf_multivariada"
   ]
  },
  {
   "cell_type": "markdown",
   "metadata": {},
   "source": [
    "### Validación y Determinación de Epsilon\n",
    "\n",
    "Para poder estimar el valor del umbral ***$\\epsilon$ Epsilon*** (que determina la probabilidad debajo de la cual se considerará una observación como anomalía) se utilizará un conjunto de validación. Este conjunto tiene observaciones **normales** y observaciones que sabemos que son **anómalas**, por lo tanto se incluye también su etiqueta (ground truth) con Y = 0 en el caso normal, Y = 1 en el caso anormal."
   ]
  },
  {
   "cell_type": "code",
   "execution_count": 7,
   "metadata": {},
   "outputs": [
    {
     "data": {
      "text/html": [
       "<div>\n",
       "<style scoped>\n",
       "    .dataframe tbody tr th:only-of-type {\n",
       "        vertical-align: middle;\n",
       "    }\n",
       "\n",
       "    .dataframe tbody tr th {\n",
       "        vertical-align: top;\n",
       "    }\n",
       "\n",
       "    .dataframe thead th {\n",
       "        text-align: right;\n",
       "    }\n",
       "</style>\n",
       "<table border=\"1\" class=\"dataframe\">\n",
       "  <thead>\n",
       "    <tr style=\"text-align: right;\">\n",
       "      <th></th>\n",
       "      <th>Estatura</th>\n",
       "      <th>Edad</th>\n",
       "      <th>Anomalia</th>\n",
       "    </tr>\n",
       "  </thead>\n",
       "  <tbody>\n",
       "    <tr>\n",
       "      <th>0</th>\n",
       "      <td>1.82</td>\n",
       "      <td>25.0</td>\n",
       "      <td>0</td>\n",
       "    </tr>\n",
       "    <tr>\n",
       "      <th>1</th>\n",
       "      <td>1.80</td>\n",
       "      <td>27.0</td>\n",
       "      <td>0</td>\n",
       "    </tr>\n",
       "    <tr>\n",
       "      <th>2</th>\n",
       "      <td>1.60</td>\n",
       "      <td>31.0</td>\n",
       "      <td>0</td>\n",
       "    </tr>\n",
       "    <tr>\n",
       "      <th>3</th>\n",
       "      <td>1.60</td>\n",
       "      <td>35.0</td>\n",
       "      <td>0</td>\n",
       "    </tr>\n",
       "    <tr>\n",
       "      <th>4</th>\n",
       "      <td>0.25</td>\n",
       "      <td>2.4</td>\n",
       "      <td>1</td>\n",
       "    </tr>\n",
       "    <tr>\n",
       "      <th>5</th>\n",
       "      <td>175.10</td>\n",
       "      <td>2.5</td>\n",
       "      <td>1</td>\n",
       "    </tr>\n",
       "  </tbody>\n",
       "</table>\n",
       "</div>"
      ],
      "text/plain": [
       "   Estatura  Edad  Anomalia\n",
       "0      1.82  25.0         0\n",
       "1      1.80  27.0         0\n",
       "2      1.60  31.0         0\n",
       "3      1.60  35.0         0\n",
       "4      0.25   2.4         1\n",
       "5    175.10   2.5         1"
      ]
     },
     "execution_count": 7,
     "metadata": {},
     "output_type": "execute_result"
    }
   ],
   "source": [
    "df_validacion = pd.read_csv('validation_anomaly.csv')\n",
    "x_validacion = df_validacion[[\"Edad\",\"Estatura\"]]\n",
    "y_validacion = df_validacion[[\"Anomalia\"]]\n",
    "\n",
    "df_validacion"
   ]
  },
  {
   "cell_type": "markdown",
   "metadata": {},
   "source": [
    "Encontramos entonces la PDF multivariada utilizando la función **multivariate_normal**, basándonos en los parámetros de entrenamiento encontrados (medias y matriz de covarianza):"
   ]
  },
  {
   "cell_type": "code",
   "execution_count": 8,
   "metadata": {},
   "outputs": [
    {
     "data": {
      "text/plain": [
       "array([1.75382599e-01, 2.89286696e-01, 7.74871753e-02, 2.93934007e-02,\n",
       "       4.19416801e-83, 0.00000000e+00])"
      ]
     },
     "execution_count": 8,
     "metadata": {},
     "output_type": "execute_result"
    }
   ],
   "source": [
    "pdf_validacion = distribucion_multivariada(x_validacion,medias_entrenamiento,covarianza_entrenamiento)\n",
    "pdf_validacion"
   ]
  },
  {
   "cell_type": "markdown",
   "metadata": {},
   "source": [
    "Función para seleccionar Epsilon, en función de la métrica de validación F1-Score. Para ello se envía la PDF de validación encontrada con anterioridad, y las etiquetas correspondientes (ground truth)."
   ]
  },
  {
   "cell_type": "code",
   "execution_count": 9,
   "metadata": {},
   "outputs": [],
   "source": [
    "def seleccion_Epsilon(pdf,etiquetas):\n",
    "    mejor_epsilon = 0\n",
    "    mejor_f1 = 0\n",
    "    f1 = 0\n",
    "    f1_scores = []\n",
    "\n",
    "    \n",
    "    tamaño_paso = (max(pdf) - min(pdf))/1000 # Tamaño del paso: rango de la pdf dividido por 1000\n",
    "    epsilons = np.arange(min(pdf),max(pdf),tamaño_paso) # Prueba de 1000 Epsilons\n",
    "    \n",
    "    # Examen sobre todos los valores de Epsilon\n",
    "    for epsilon in epsilons:\n",
    "        predicciones = (pdf < epsilon)\n",
    "        f1 = f1_score(etiquetas,predicciones,average=\"binary\")\n",
    "        f1_scores = np.append(f1_scores,f1)\n",
    "        if f1 > mejor_f1:\n",
    "            mejor_f1 = f1\n",
    "            mejor_epsilon = epsilon\n",
    "    \n",
    "    \n",
    "    # Progreso F1-Score vrs. Epsilon\n",
    "    plt.scatter(epsilons, f1_scores,c='purple',s=10)\n",
    "    plt.title('F1-Score vrs. Epsilon')\n",
    "    plt.xlabel('Epsilon')\n",
    "    plt.ylabel('F1-Socre')\n",
    "    plt.show()\n",
    "    \n",
    "    return mejor_f1,mejor_epsilon\n"
   ]
  },
  {
   "cell_type": "code",
   "execution_count": 10,
   "metadata": {},
   "outputs": [
    {
     "data": {
      "image/png": "[encoded data removed]",
      "text/plain": [
       "<Figure size 432x288 with 1 Axes>"
      ]
     },
     "metadata": {
      "needs_background": "light"
     },
     "output_type": "display_data"
    }
   ],
   "source": [
    "mejor_f1,mejor_epsilon = seleccion_Epsilon(pdf_validacion,y_validacion)"
   ]
  },
  {
   "cell_type": "code",
   "execution_count": 11,
   "metadata": {},
   "outputs": [
    {
     "data": {
      "text/plain": [
       "0.000289286695661907"
      ]
     },
     "execution_count": 11,
     "metadata": {},
     "output_type": "execute_result"
    }
   ],
   "source": [
    "mejor_epsilon"
   ]
  },
  {
   "cell_type": "code",
   "execution_count": 12,
   "metadata": {},
   "outputs": [
    {
     "data": {
      "text/plain": [
       "1.0"
      ]
     },
     "execution_count": 12,
     "metadata": {},
     "output_type": "execute_result"
    }
   ],
   "source": [
    "mejor_f1"
   ]
  },
  {
   "cell_type": "markdown",
   "metadata": {},
   "source": [
    "### Predicción en Conjunto de Pruebas TEST"
   ]
  },
  {
   "cell_type": "code",
   "execution_count": 13,
   "metadata": {},
   "outputs": [
    {
     "data": {
      "text/html": [
       "<div>\n",
       "<style scoped>\n",
       "    .dataframe tbody tr th:only-of-type {\n",
       "        vertical-align: middle;\n",
       "    }\n",
       "\n",
       "    .dataframe tbody tr th {\n",
       "        vertical-align: top;\n",
       "    }\n",
       "\n",
       "    .dataframe thead th {\n",
       "        text-align: right;\n",
       "    }\n",
       "</style>\n",
       "<table border=\"1\" class=\"dataframe\">\n",
       "  <thead>\n",
       "    <tr style=\"text-align: right;\">\n",
       "      <th></th>\n",
       "      <th>Edad</th>\n",
       "      <th>Estatura</th>\n",
       "    </tr>\n",
       "  </thead>\n",
       "  <tbody>\n",
       "    <tr>\n",
       "      <th>0</th>\n",
       "      <td>30</td>\n",
       "      <td>1.82</td>\n",
       "    </tr>\n",
       "    <tr>\n",
       "      <th>1</th>\n",
       "      <td>32</td>\n",
       "      <td>1.76</td>\n",
       "    </tr>\n",
       "    <tr>\n",
       "      <th>2</th>\n",
       "      <td>31</td>\n",
       "      <td>1.79</td>\n",
       "    </tr>\n",
       "    <tr>\n",
       "      <th>3</th>\n",
       "      <td>31</td>\n",
       "      <td>1.61</td>\n",
       "    </tr>\n",
       "    <tr>\n",
       "      <th>4</th>\n",
       "      <td>250</td>\n",
       "      <td>0.15</td>\n",
       "    </tr>\n",
       "    <tr>\n",
       "      <th>5</th>\n",
       "      <td>14</td>\n",
       "      <td>150.00</td>\n",
       "    </tr>\n",
       "  </tbody>\n",
       "</table>\n",
       "</div>"
      ],
      "text/plain": [
       "   Edad  Estatura\n",
       "0    30      1.82\n",
       "1    32      1.76\n",
       "2    31      1.79\n",
       "3    31      1.61\n",
       "4   250      0.15\n",
       "5    14    150.00"
      ]
     },
     "execution_count": 13,
     "metadata": {},
     "output_type": "execute_result"
    }
   ],
   "source": [
    "df_pruebas = pd.read_csv('test_anomaly.csv')\n",
    "df_pruebas = df_pruebas [[\"Edad\",\"Estatura\"]]\n",
    "df_pruebas"
   ]
  },
  {
   "cell_type": "code",
   "execution_count": 14,
   "metadata": {},
   "outputs": [],
   "source": [
    "def prediccion_anomalias(df,epsilon,mu_entrenamiento,sigma_entrenamiento):\n",
    "    \n",
    "    df_salida = df.copy()\n",
    "    f1 = 0\n",
    "    observaciones = df_pruebas.shape[0]\n",
    "    predicciones = np.zeros(observaciones)\n",
    "    \n",
    "    # Para el conjunto de pruebas, calculamos su PDF basado en los\n",
    "    # parámetros de medias y covarianza del entrenamiento\n",
    "    pdf = distribucion_multivariada(df,mu_entrenamiento,sigma_entrenamiento)  \n",
    "    predicciones = (pdf < epsilon)\n",
    "    \n",
    "    df_salida[\"Anomalia\"] = predicciones\n",
    "    \n",
    "    return df_salida\n",
    "    "
   ]
  },
  {
   "cell_type": "code",
   "execution_count": 15,
   "metadata": {},
   "outputs": [
    {
     "data": {
      "text/html": [
       "<div>\n",
       "<style scoped>\n",
       "    .dataframe tbody tr th:only-of-type {\n",
       "        vertical-align: middle;\n",
       "    }\n",
       "\n",
       "    .dataframe tbody tr th {\n",
       "        vertical-align: top;\n",
       "    }\n",
       "\n",
       "    .dataframe thead th {\n",
       "        text-align: right;\n",
       "    }\n",
       "</style>\n",
       "<table border=\"1\" class=\"dataframe\">\n",
       "  <thead>\n",
       "    <tr style=\"text-align: right;\">\n",
       "      <th></th>\n",
       "      <th>Edad</th>\n",
       "      <th>Estatura</th>\n",
       "      <th>Anomalia</th>\n",
       "    </tr>\n",
       "  </thead>\n",
       "  <tbody>\n",
       "    <tr>\n",
       "      <th>0</th>\n",
       "      <td>30</td>\n",
       "      <td>1.82</td>\n",
       "      <td>False</td>\n",
       "    </tr>\n",
       "    <tr>\n",
       "      <th>1</th>\n",
       "      <td>32</td>\n",
       "      <td>1.76</td>\n",
       "      <td>False</td>\n",
       "    </tr>\n",
       "    <tr>\n",
       "      <th>2</th>\n",
       "      <td>31</td>\n",
       "      <td>1.79</td>\n",
       "      <td>False</td>\n",
       "    </tr>\n",
       "    <tr>\n",
       "      <th>3</th>\n",
       "      <td>31</td>\n",
       "      <td>1.61</td>\n",
       "      <td>False</td>\n",
       "    </tr>\n",
       "    <tr>\n",
       "      <th>4</th>\n",
       "      <td>250</td>\n",
       "      <td>0.15</td>\n",
       "      <td>True</td>\n",
       "    </tr>\n",
       "    <tr>\n",
       "      <th>5</th>\n",
       "      <td>14</td>\n",
       "      <td>150.00</td>\n",
       "      <td>True</td>\n",
       "    </tr>\n",
       "  </tbody>\n",
       "</table>\n",
       "</div>"
      ],
      "text/plain": [
       "   Edad  Estatura  Anomalia\n",
       "0    30      1.82     False\n",
       "1    32      1.76     False\n",
       "2    31      1.79     False\n",
       "3    31      1.61     False\n",
       "4   250      0.15      True\n",
       "5    14    150.00      True"
      ]
     },
     "execution_count": 15,
     "metadata": {},
     "output_type": "execute_result"
    }
   ],
   "source": [
    "prediccion_anomalias(df_pruebas,mejor_epsilon,medias_entrenamiento,covarianza_entrenamiento)"
   ]
  }
 ],
 "metadata": {
  "kernelspec": {
   "display_name": "Python 3",
   "language": "python",
   "name": "python3"
  },
  "language_info": {
   "codemirror_mode": {
    "name": "ipython",
    "version": 3
   },
   "file_extension": ".py",
   "mimetype": "text/x-python",
   "name": "python",
   "nbconvert_exporter": "python",
   "pygments_lexer": "ipython3",
   "version": "3.7.7"
  }
 },
 "nbformat": 4,
 "nbformat_minor": 4
}
